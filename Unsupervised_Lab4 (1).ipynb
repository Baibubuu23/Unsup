{
  "nbformat": 4,
  "nbformat_minor": 0,
  "metadata": {
    "colab": {
      "provenance": []
    },
    "kernelspec": {
      "name": "python3",
      "display_name": "Python 3"
    },
    "language_info": {
      "name": "python"
    }
  },
  "cells": [
    {
      "cell_type": "code",
      "execution_count": 1,
      "metadata": {
        "id": "ugqRI_mBBEw_"
      },
      "outputs": [],
      "source": [
        "from sklearn import datasets\n",
        "\n",
        "# Load iris dataset\n",
        "iris = datasets.load_iris()\n",
        "X = iris.data\n",
        "y = iris.target"
      ]
    },
    {
      "cell_type": "code",
      "source": [
        "import pandas as pd\n",
        "\n",
        "# Create a DataFrame to visualize the labels\n",
        "df = pd.DataFrame(data=X, columns=iris.feature_names)\n",
        "df['target'] = y\n",
        "print(df.head())  # Print the first few rows to check the labels"
      ],
      "metadata": {
        "colab": {
          "base_uri": "https://localhost:8080/"
        },
        "id": "TIbLiFm5CFCT",
        "outputId": "bb4b70c0-000c-444e-b42c-51ffdd9f8573"
      },
      "execution_count": 2,
      "outputs": [
        {
          "output_type": "stream",
          "name": "stdout",
          "text": [
            "   sepal length (cm)  sepal width (cm)  petal length (cm)  petal width (cm)  \\\n",
            "0                5.1               3.5                1.4               0.2   \n",
            "1                4.9               3.0                1.4               0.2   \n",
            "2                4.7               3.2                1.3               0.2   \n",
            "3                4.6               3.1                1.5               0.2   \n",
            "4                5.0               3.6                1.4               0.2   \n",
            "\n",
            "   target  \n",
            "0       0  \n",
            "1       0  \n",
            "2       0  \n",
            "3       0  \n",
            "4       0  \n"
          ]
        }
      ]
    },
    {
      "cell_type": "code",
      "source": [
        "from sklearn.cluster import AgglomerativeClustering\n",
        "import numpy as np\n",
        "\n",
        "# Perform hierarchical clustering\n",
        "model = AgglomerativeClustering(n_clusters=3)  # Specify number of clusters if known\n",
        "clusters = model.fit_predict(X)\n",
        "\n",
        "# Add clusters to the DataFrame\n",
        "df['cluster'] = clusters\n",
        "print(df.head())  # Print the first few rows to check clustering results\n"
      ],
      "metadata": {
        "colab": {
          "base_uri": "https://localhost:8080/"
        },
        "id": "obgZ0QOlCIkC",
        "outputId": "63852659-2f9b-49b2-ede8-34da392d4311"
      },
      "execution_count": 3,
      "outputs": [
        {
          "output_type": "stream",
          "name": "stdout",
          "text": [
            "   sepal length (cm)  sepal width (cm)  petal length (cm)  petal width (cm)  \\\n",
            "0                5.1               3.5                1.4               0.2   \n",
            "1                4.9               3.0                1.4               0.2   \n",
            "2                4.7               3.2                1.3               0.2   \n",
            "3                4.6               3.1                1.5               0.2   \n",
            "4                5.0               3.6                1.4               0.2   \n",
            "\n",
            "   target  cluster  \n",
            "0       0        1  \n",
            "1       0        1  \n",
            "2       0        1  \n",
            "3       0        1  \n",
            "4       0        1  \n"
          ]
        }
      ]
    },
    {
      "cell_type": "code",
      "source": [
        "from sklearn.cluster import KMeans\n",
        "\n",
        "# Perform K-Means Clustering\n",
        "kmeans_model = KMeans(n_clusters=3, random_state=0)\n",
        "kmeans_clusters = kmeans_model.fit_predict(X)\n",
        "\n",
        "df['K-Means Cluster'] = kmeans_clusters\n",
        "print(df.head())  # Print to verify"
      ],
      "metadata": {
        "colab": {
          "base_uri": "https://localhost:8080/"
        },
        "id": "8uwTAj9kCW8a",
        "outputId": "806c698d-80b8-4fc8-c64e-eee01cce68da"
      },
      "execution_count": 9,
      "outputs": [
        {
          "output_type": "stream",
          "name": "stdout",
          "text": [
            "   sepal length (cm)  sepal width (cm)  petal length (cm)  petal width (cm)  \\\n",
            "0                5.1               3.5                1.4               0.2   \n",
            "1                4.9               3.0                1.4               0.2   \n",
            "2                4.7               3.2                1.3               0.2   \n",
            "3                4.6               3.1                1.5               0.2   \n",
            "4                5.0               3.6                1.4               0.2   \n",
            "\n",
            "   target  cluster  K-Means Cluster  \n",
            "0       0        1                1  \n",
            "1       0        1                1  \n",
            "2       0        1                1  \n",
            "3       0        1                1  \n",
            "4       0        1                1  \n"
          ]
        },
        {
          "output_type": "stream",
          "name": "stderr",
          "text": [
            "/usr/local/lib/python3.10/dist-packages/sklearn/cluster/_kmeans.py:1416: FutureWarning: The default value of `n_init` will change from 10 to 'auto' in 1.4. Set the value of `n_init` explicitly to suppress the warning\n",
            "  super()._check_params_vs_input(X, default_n_init=10)\n"
          ]
        }
      ]
    },
    {
      "cell_type": "code",
      "source": [
        "import scipy.cluster.hierarchy as sch\n",
        "import matplotlib.pyplot as plt\n",
        "\n",
        "# Compute the linkage matrix\n",
        "linkage_matrix = sch.linkage(X, method='ward')\n",
        "\n",
        "# Plot the dendrogram\n",
        "plt.figure(figsize=(10, 7))\n",
        "sch.dendrogram(linkage_matrix, labels=iris.target)\n",
        "plt.title('Dendrogram for Iris Dataset')\n",
        "plt.xlabel('Index')\n",
        "plt.ylabel('Distance')\n",
        "plt.show()\n"
      ],
      "metadata": {
        "colab": {
          "base_uri": "https://localhost:8080/",
          "height": 632
        },
        "id": "-UxjbVezCY9q",
        "outputId": "632a8b6a-27bb-4c38-d705-8bfcfd6fca4a"
      },
      "execution_count": 5,
      "outputs": [
        {
          "output_type": "display_data",
          "data": {
            "text/plain": [
              "<Figure size 1000x700 with 1 Axes>"
            ],
            "image/png": "[encoded data removed]"
          },
          "metadata": {}
        }
      ]
    },
    {
      "cell_type": "code",
      "source": [
        "plt.figure(figsize=(10, 7))\n",
        "sch.dendrogram(linkage_matrix, labels=iris.target)\n",
        "plt.title('Dendrogram for Iris Dataset')\n",
        "plt.xlabel('Index')\n",
        "plt.ylabel('Distance')\n",
        "plt.savefig('dendrogram.png')  # Save the dendrogram image\n"
      ],
      "metadata": {
        "colab": {
          "base_uri": "https://localhost:8080/",
          "height": 632
        },
        "id": "TFcFuZBfCbGy",
        "outputId": "418fba1f-decf-4611-c540-b38f6f0ce0e3"
      },
      "execution_count": 6,
      "outputs": [
        {
          "output_type": "display_data",
          "data": {
            "text/plain": [
              "<Figure size 1000x700 with 1 Axes>"
            ],
            "image/png": "[encoded data removed]"
          },
          "metadata": {}
        }
      ]
    },
    {
      "cell_type": "code",
      "source": [
        "#2\n",
        "from sklearn import datasets\n",
        "from sklearn.cluster import AgglomerativeClustering\n",
        "\n",
        "iris = datasets.load_iris()\n",
        "X = iris.data\n",
        "y = iris.target"
      ],
      "metadata": {
        "id": "VX-yFMbBCfcp"
      },
      "execution_count": null,
      "outputs": []
    },
    {
      "cell_type": "code",
      "source": [
        "model = AgglomerativeClustering(n_clusters=3,metric='euclidean',linkage='ward')\n",
        "model.fit(X)\n",
        "for i in range(len(model.labels_)):\n",
        "  print(model.labels_[i], \"\\t\\t\" ,y[i])\n"
      ],
      "metadata": {
        "colab": {
          "base_uri": "https://localhost:8080/"
        },
        "id": "dXilKhDuHXoN",
        "outputId": "c3af7f84-5641-42ee-8af5-690861e5094e"
      },
      "execution_count": 19,
      "outputs": [
        {
          "output_type": "stream",
          "name": "stdout",
          "text": [
            "1 \t\t 0\n",
            "1 \t\t 0\n",
            "1 \t\t 0\n",
            "1 \t\t 0\n",
            "1 \t\t 0\n",
            "1 \t\t 0\n",
            "1 \t\t 0\n",
            "1 \t\t 0\n",
            "1 \t\t 0\n",
            "1 \t\t 0\n",
            "1 \t\t 0\n",
            "1 \t\t 0\n",
            "1 \t\t 0\n",
            "1 \t\t 0\n",
            "1 \t\t 0\n",
            "1 \t\t 0\n",
            "1 \t\t 0\n",
            "1 \t\t 0\n",
            "1 \t\t 0\n",
            "1 \t\t 0\n",
            "1 \t\t 0\n",
            "1 \t\t 0\n",
            "1 \t\t 0\n",
            "1 \t\t 0\n",
            "1 \t\t 0\n",
            "1 \t\t 0\n",
            "1 \t\t 0\n",
            "1 \t\t 0\n",
            "1 \t\t 0\n",
            "1 \t\t 0\n",
            "1 \t\t 0\n",
            "1 \t\t 0\n",
            "1 \t\t 0\n",
            "1 \t\t 0\n",
            "1 \t\t 0\n",
            "1 \t\t 0\n",
            "1 \t\t 0\n",
            "1 \t\t 0\n",
            "1 \t\t 0\n",
            "1 \t\t 0\n",
            "1 \t\t 0\n",
            "1 \t\t 0\n",
            "1 \t\t 0\n",
            "1 \t\t 0\n",
            "1 \t\t 0\n",
            "1 \t\t 0\n",
            "1 \t\t 0\n",
            "1 \t\t 0\n",
            "1 \t\t 0\n",
            "1 \t\t 0\n",
            "0 \t\t 1\n",
            "0 \t\t 1\n",
            "0 \t\t 1\n",
            "0 \t\t 1\n",
            "0 \t\t 1\n",
            "0 \t\t 1\n",
            "0 \t\t 1\n",
            "0 \t\t 1\n",
            "0 \t\t 1\n",
            "0 \t\t 1\n",
            "0 \t\t 1\n",
            "0 \t\t 1\n",
            "0 \t\t 1\n",
            "0 \t\t 1\n",
            "0 \t\t 1\n",
            "0 \t\t 1\n",
            "0 \t\t 1\n",
            "0 \t\t 1\n",
            "0 \t\t 1\n",
            "0 \t\t 1\n",
            "0 \t\t 1\n",
            "0 \t\t 1\n",
            "0 \t\t 1\n",
            "0 \t\t 1\n",
            "0 \t\t 1\n",
            "0 \t\t 1\n",
            "0 \t\t 1\n",
            "2 \t\t 1\n",
            "0 \t\t 1\n",
            "0 \t\t 1\n",
            "0 \t\t 1\n",
            "0 \t\t 1\n",
            "0 \t\t 1\n",
            "0 \t\t 1\n",
            "0 \t\t 1\n",
            "0 \t\t 1\n",
            "0 \t\t 1\n",
            "0 \t\t 1\n",
            "0 \t\t 1\n",
            "0 \t\t 1\n",
            "0 \t\t 1\n",
            "0 \t\t 1\n",
            "0 \t\t 1\n",
            "0 \t\t 1\n",
            "0 \t\t 1\n",
            "0 \t\t 1\n",
            "0 \t\t 1\n",
            "0 \t\t 1\n",
            "0 \t\t 1\n",
            "0 \t\t 1\n",
            "2 \t\t 2\n",
            "0 \t\t 2\n",
            "2 \t\t 2\n",
            "2 \t\t 2\n",
            "2 \t\t 2\n",
            "2 \t\t 2\n",
            "0 \t\t 2\n",
            "2 \t\t 2\n",
            "2 \t\t 2\n",
            "2 \t\t 2\n",
            "2 \t\t 2\n",
            "2 \t\t 2\n",
            "2 \t\t 2\n",
            "0 \t\t 2\n",
            "0 \t\t 2\n",
            "2 \t\t 2\n",
            "2 \t\t 2\n",
            "2 \t\t 2\n",
            "2 \t\t 2\n",
            "0 \t\t 2\n",
            "2 \t\t 2\n",
            "0 \t\t 2\n",
            "2 \t\t 2\n",
            "0 \t\t 2\n",
            "2 \t\t 2\n",
            "2 \t\t 2\n",
            "0 \t\t 2\n",
            "0 \t\t 2\n",
            "2 \t\t 2\n",
            "2 \t\t 2\n",
            "2 \t\t 2\n",
            "2 \t\t 2\n",
            "2 \t\t 2\n",
            "0 \t\t 2\n",
            "0 \t\t 2\n",
            "2 \t\t 2\n",
            "2 \t\t 2\n",
            "2 \t\t 2\n",
            "0 \t\t 2\n",
            "2 \t\t 2\n",
            "2 \t\t 2\n",
            "2 \t\t 2\n",
            "0 \t\t 2\n",
            "2 \t\t 2\n",
            "2 \t\t 2\n",
            "2 \t\t 2\n",
            "0 \t\t 2\n",
            "2 \t\t 2\n",
            "2 \t\t 2\n",
            "0 \t\t 2\n"
          ]
        }
      ]
    },
    {
      "cell_type": "code",
      "source": [
        "from scipy.cluster.hierarchy import dendrogram , linkage\n",
        "from matplotlib import pyplot as pyplot\n",
        "\n",
        "def plot_dendrogram(X):\n",
        "  linkage_data = linkage(X,\"ward\")\n",
        "  dendrogram(linkage_data)\n"
      ],
      "metadata": {
        "id": "IS6IWH7BJbsT"
      },
      "execution_count": 24,
      "outputs": []
    },
    {
      "cell_type": "code",
      "source": [
        "plot_dendrogram(X)\n",
        "plt.show()"
      ],
      "metadata": {
        "colab": {
          "base_uri": "https://localhost:8080/",
          "height": 429
        },
        "id": "GtuMdOojKCVN",
        "outputId": "9d8efdec-4194-4525-bb02-a68aa9eaff68"
      },
      "execution_count": 25,
      "outputs": [
        {
          "output_type": "display_data",
          "data": {
            "text/plain": [
              "<Figure size 640x480 with 1 Axes>"
            ],
            "image/png": "[encoded data removed]"
          },
          "metadata": {}
        }
      ]
    },
    {
      "cell_type": "code",
      "source": [],
      "metadata": {
        "id": "aAHgx1nvNmOK"
      },
      "execution_count": null,
      "outputs": []
    }
  ]
}