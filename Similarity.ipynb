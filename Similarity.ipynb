{
 "cells": [
  {
   "cell_type": "code",
   "execution_count": 74,
   "id": "bd3dd17f-a160-4a7a-a6f4-0e3449eb6aa1",
   "metadata": {},
   "outputs": [],
   "source": [
    "import numpy as np\n",
    "import pandas as pd"
   ]
  },
  {
   "cell_type": "code",
   "execution_count": 75,
   "id": "1e0f4f90-2d69-4cea-964e-b11383cf8c30",
   "metadata": {},
   "outputs": [],
   "source": [
    "w = np.load(\"C://Users/nextn/Desktop/Junior/Unsupervised/LAB02/w.npy\")\n",
    "x = np.load(\"C://Users/nextn/Desktop/Junior/Unsupervised/LAB02/x.npy\")\n",
    "y = np.load(\"C://Users/nextn/Desktop/Junior/Unsupervised/LAB02/y.npy\")\n",
    "z = np.load(\"C://Users/nextn/Desktop/Junior/Unsupervised/LAB02/z.npy\")"
   ]
  },
  {
   "cell_type": "code",
   "execution_count": 76,
   "id": "ce7654f9-d585-466f-b204-94f7eff584a4",
   "metadata": {},
   "outputs": [
    {
     "name": "stdout",
     "output_type": "stream",
     "text": [
      "------w------\n",
      "Unique : [0 1]\n",
      "Count : 50\n",
      "Count of 1 : 30\n",
      "Count of 0 : 20\n"
     ]
    }
   ],
   "source": [
    "print(\"------w------\")\n",
    "print(\"Unique :\",np.unique(w))\n",
    "print(\"Count :\",len(w))\n",
    "print(\"Count of 1 :\",sum(w))\n",
    "print(\"Count of 0 :\",(len(w))-sum(w))"
   ]
  },
  {
   "cell_type": "code",
   "execution_count": 77,
   "id": "849f4b21-0b06-44e2-abbb-e3b468614366",
   "metadata": {},
   "outputs": [
    {
     "name": "stdout",
     "output_type": "stream",
     "text": [
      "------x------\n",
      "Unique : [0 1]\n",
      "Count : 50\n",
      "Count of 1 : 23\n",
      "Count of 0 : 27\n"
     ]
    }
   ],
   "source": [
    "print(\"------x------\")\n",
    "print(\"Unique :\",np.unique(x))\n",
    "print(\"Count :\",len(x))\n",
    "print(\"Count of 1 :\",sum(x))\n",
    "print(\"Count of 0 :\",(len(x))-sum(x))"
   ]
  },
  {
   "cell_type": "code",
   "execution_count": 78,
   "id": "b0b2aa32-745c-4f09-89ee-30d5e05f18d4",
   "metadata": {},
   "outputs": [
    {
     "name": "stdout",
     "output_type": "stream",
     "text": [
      "------y------\n",
      "Unique : [0 1]\n",
      "Count : 50\n",
      "Count of 1 : 21\n",
      "Count of 0 : 29\n"
     ]
    }
   ],
   "source": [
    "print(\"------y------\")\n",
    "print(\"Unique :\",np.unique(y))\n",
    "print(\"Count :\",len(y))\n",
    "print(\"Count of 1 :\",sum(y))\n",
    "print(\"Count of 0 :\",(len(y))-sum(y))"
   ]
  },
  {
   "cell_type": "code",
   "execution_count": 79,
   "id": "bb7b1925-5d6e-41df-8f50-a1071ccb72cf",
   "metadata": {},
   "outputs": [
    {
     "name": "stdout",
     "output_type": "stream",
     "text": [
      "------z------\n",
      "Unique : [0 1]\n",
      "Count : 50\n",
      "Count of 1 : 31\n",
      "Count of 0 : 19\n"
     ]
    }
   ],
   "source": [
    "print(\"------z------\")\n",
    "print(\"Unique :\",np.unique(z))\n",
    "print(\"Count :\",len(z))\n",
    "print(\"Count of 1 :\",sum(z))\n",
    "print(\"Count of 0 :\",(len(z))-sum(z))"
   ]
  },
  {
   "cell_type": "code",
   "execution_count": 126,
   "id": "0ed70fd0-78a8-447f-aa5b-39035184e76c",
   "metadata": {},
   "outputs": [
    {
     "name": "stdout",
     "output_type": "stream",
     "text": [
      "---w,x---\n",
      "11 9\n",
      "16 14\n"
     ]
    }
   ],
   "source": [
    "def contingency(input1,input2):\n",
    "    if len(input1) == len(input2):\n",
    "        f00 = 0\n",
    "        f01 = 0\n",
    "        f10 = 0\n",
    "        f11 = 0\n",
    "        for i in range(len(input1)):\n",
    "            if input1[i] == 0 and input2[i] == 0:\n",
    "                f00 += 1\n",
    "            elif input1[i] == 0 and input2[i] == 1:\n",
    "                f01 += 1\n",
    "            elif input1[i] == 1 and input2[i] == 0:\n",
    "                f10 += 1\n",
    "            elif input1[i] == 1 and input2[i] == 1:\n",
    "                f11 += 1\n",
    "        return f00,f01,f10,f11\n",
    "    else :\n",
    "        print(\"Size Error\")\n",
    "\n",
    "print(\"---w,x---\")\n",
    "f00,f01,f10,f11 = contingency(w,x)\n",
    "print(f00,f01)\n",
    "print(f10,f11)"
   ]
  },
  {
   "cell_type": "code",
   "execution_count": 101,
   "id": "1c8bbb7a-70c2-4118-86d5-9a92d78cd946",
   "metadata": {},
   "outputs": [
    {
     "name": "stdout",
     "output_type": "stream",
     "text": [
      "---x,y---\n",
      "26 1\n",
      "3 20\n"
     ]
    }
   ],
   "source": [
    "print(\"---x,y---\")\n",
    "f00,f01,f10,f11 = contingency(x,y)\n",
    "print(f00,f01)\n",
    "print(f10,f11)"
   ]
  },
  {
   "cell_type": "code",
   "execution_count": 102,
   "id": "b3787075-18b3-487f-9528-f3c3c6a85e69",
   "metadata": {},
   "outputs": [
    {
     "name": "stdout",
     "output_type": "stream",
     "text": [
      "---y,z---\n",
      "10 19\n",
      "9 12\n"
     ]
    }
   ],
   "source": [
    "print(\"---y,z---\")\n",
    "f00,f01,f10,f11 = contingency(y,z)\n",
    "print(f00,f01)\n",
    "print(f10,f11)"
   ]
  },
  {
   "cell_type": "code",
   "execution_count": 106,
   "id": "a37a6818-4753-49c8-a6de-b692795b63f2",
   "metadata": {},
   "outputs": [],
   "source": [
    "def sym_binary_coef(input1,input2):\n",
    "    f00,f01,f10,f11 = contingency(input1,input2)\n",
    "    return (f00+f11)/(f00+f01+f10+f11)"
   ]
  },
  {
   "cell_type": "code",
   "execution_count": 122,
   "id": "6f29d192-24bb-4c55-b6de-19356ff68027",
   "metadata": {},
   "outputs": [],
   "source": [
    "def similarity_matrix (list_of_input):\n",
    "    n =len(list_of_input)\n",
    "    output = np.zeros((n,n),dtype=np.float32)\n",
    "    for i in range(n-1):\n",
    "        for j in range(i+1,n,1):\n",
    "            output[j][i] = sym_binary_coef(list_of_input[i],list_of_input[j])\n",
    "    print(output)"
   ]
  },
  {
   "cell_type": "code",
   "execution_count": 123,
   "id": "2fe552be-0bfa-40da-b2fa-57242c313c8e",
   "metadata": {},
   "outputs": [],
   "source": [
    "def sym_binary_coef_dis(input1,input2):\n",
    "    f00,f01,f10,f11 = contingency(input1,input2)\n",
    "    return (f10+f01)/(f00+f01+f10+f11)"
   ]
  },
  {
   "cell_type": "code",
   "execution_count": 124,
   "id": "fd91087d-bb65-4dc0-abd0-e2a1671c7baf",
   "metadata": {},
   "outputs": [],
   "source": [
    "def dissimilarity_matrix (list_of_input):\n",
    "    n =len(list_of_input)\n",
    "    output = np.zeros((n,n),dtype=np.float32)\n",
    "    for i in range(n-1):\n",
    "        for j in range(i+1,n,1):\n",
    "            output[j][i] = sym_binary_coef_dis(list_of_input[i],list_of_input[j])\n",
    "    print(output)"
   ]
  },
  {
   "cell_type": "code",
   "execution_count": 125,
   "id": "3a251f69-94ed-4b87-ac7f-c78f3d9a5056",
   "metadata": {},
   "outputs": [
    {
     "name": "stdout",
     "output_type": "stream",
     "text": [
      "----similarity_matrix-----\n",
      "[[0.   0.   0.   0.  ]\n",
      " [0.5  0.   0.   0.  ]\n",
      " [0.46 0.92 0.   0.  ]\n",
      " [0.86 0.48 0.44 0.  ]]\n",
      "----dissimilarity_matrix-----\n",
      "[[0.   0.   0.   0.  ]\n",
      " [0.5  0.   0.   0.  ]\n",
      " [0.54 0.08 0.   0.  ]\n",
      " [0.14 0.52 0.56 0.  ]]\n"
     ]
    }
   ],
   "source": [
    "print(\"----similarity_matrix-----\")\n",
    "similarity_matrix([w,x,y,z])\n",
    "print(\"----dissimilarity_matrix-----\")\n",
    "dissimilarity_matrix([w,x,y,z])"
   ]
  },
  {
   "cell_type": "code",
   "execution_count": null,
   "id": "79735f4b-5d50-4986-8d0a-73109c06c2ae",
   "metadata": {},
   "outputs": [],
   "source": []
  }
 ],
 "metadata": {
  "kernelspec": {
   "display_name": "Python 3 (ipykernel)",
   "language": "python",
   "name": "python3"
  },
  "language_info": {
   "codemirror_mode": {
    "name": "ipython",
    "version": 3
   },
   "file_extension": ".py",
   "mimetype": "text/x-python",
   "name": "python",
   "nbconvert_exporter": "python",
   "pygments_lexer": "ipython3",
   "version": "3.12.3"
  }
 },
 "nbformat": 4,
 "nbformat_minor": 5
}
