{
  "nbformat": 4,
  "nbformat_minor": 0,
  "metadata": {
    "colab": {
      "provenance": []
    },
    "kernelspec": {
      "name": "python3",
      "display_name": "Python 3"
    },
    "language_info": {
      "name": "python"
    }
  },
  "cells": [
    {
      "cell_type": "code",
      "execution_count": 49,
      "metadata": {
        "id": "Aknl3rdpB71-"
      },
      "outputs": [],
      "source": [
        "from sklearn import datasets\n",
        "import pandas as pd\n",
        "from sklearn.cluster import KMeans\n"
      ]
    },
    {
      "cell_type": "code",
      "source": [
        "iris = datasets.load_iris()\n",
        "X = iris.data\n",
        "y = iris.target"
      ],
      "metadata": {
        "id": "qNtXsZzhHDmb"
      },
      "execution_count": 50,
      "outputs": []
    },
    {
      "cell_type": "code",
      "source": [
        "model = KMeans(n_clusters=3).fit(X)\n",
        "print(model.labels_)"
      ],
      "metadata": {
        "colab": {
          "base_uri": "https://localhost:8080/"
        },
        "id": "IiRrZs1dHIIJ",
        "outputId": "305d7607-7575-40eb-d1c0-4215494e8713"
      },
      "execution_count": 51,
      "outputs": [
        {
          "output_type": "stream",
          "name": "stdout",
          "text": [
            "[1 1 1 1 1 1 1 1 1 1 1 1 1 1 1 1 1 1 1 1 1 1 1 1 1 1 1 1 1 1 1 1 1 1 1 1 1\n",
            " 1 1 1 1 1 1 1 1 1 1 1 1 1 0 0 2 0 0 0 0 0 0 0 0 0 0 0 0 0 0 0 0 0 0 0 0 0\n",
            " 0 0 0 2 0 0 0 0 0 0 0 0 0 0 0 0 0 0 0 0 0 0 0 0 0 0 2 0 2 2 2 2 0 2 2 2 2\n",
            " 2 2 0 0 2 2 2 2 0 2 0 2 0 2 2 0 0 2 2 2 2 2 0 2 2 2 2 0 2 2 2 0 2 2 2 0 2\n",
            " 2 0]\n"
          ]
        },
        {
          "output_type": "stream",
          "name": "stderr",
          "text": [
            "/usr/local/lib/python3.10/dist-packages/sklearn/cluster/_kmeans.py:1416: FutureWarning: The default value of `n_init` will change from 10 to 'auto' in 1.4. Set the value of `n_init` explicitly to suppress the warning\n",
            "  super()._check_params_vs_input(X, default_n_init=10)\n"
          ]
        }
      ]
    },
    {
      "cell_type": "code",
      "source": [
        "for i in range(150):\n",
        "  print(model.labels_[i], '\\t',y[i])"
      ],
      "metadata": {
        "colab": {
          "base_uri": "https://localhost:8080/"
        },
        "id": "feKuww8vHbDn",
        "outputId": "6d555591-e7bc-4453-f197-e4f672f79a7b"
      },
      "execution_count": 52,
      "outputs": [
        {
          "output_type": "stream",
          "name": "stdout",
          "text": [
            "1 \t 0\n",
            "1 \t 0\n",
            "1 \t 0\n",
            "1 \t 0\n",
            "1 \t 0\n",
            "1 \t 0\n",
            "1 \t 0\n",
            "1 \t 0\n",
            "1 \t 0\n",
            "1 \t 0\n",
            "1 \t 0\n",
            "1 \t 0\n",
            "1 \t 0\n",
            "1 \t 0\n",
            "1 \t 0\n",
            "1 \t 0\n",
            "1 \t 0\n",
            "1 \t 0\n",
            "1 \t 0\n",
            "1 \t 0\n",
            "1 \t 0\n",
            "1 \t 0\n",
            "1 \t 0\n",
            "1 \t 0\n",
            "1 \t 0\n",
            "1 \t 0\n",
            "1 \t 0\n",
            "1 \t 0\n",
            "1 \t 0\n",
            "1 \t 0\n",
            "1 \t 0\n",
            "1 \t 0\n",
            "1 \t 0\n",
            "1 \t 0\n",
            "1 \t 0\n",
            "1 \t 0\n",
            "1 \t 0\n",
            "1 \t 0\n",
            "1 \t 0\n",
            "1 \t 0\n",
            "1 \t 0\n",
            "1 \t 0\n",
            "1 \t 0\n",
            "1 \t 0\n",
            "1 \t 0\n",
            "1 \t 0\n",
            "1 \t 0\n",
            "1 \t 0\n",
            "1 \t 0\n",
            "1 \t 0\n",
            "0 \t 1\n",
            "0 \t 1\n",
            "2 \t 1\n",
            "0 \t 1\n",
            "0 \t 1\n",
            "0 \t 1\n",
            "0 \t 1\n",
            "0 \t 1\n",
            "0 \t 1\n",
            "0 \t 1\n",
            "0 \t 1\n",
            "0 \t 1\n",
            "0 \t 1\n",
            "0 \t 1\n",
            "0 \t 1\n",
            "0 \t 1\n",
            "0 \t 1\n",
            "0 \t 1\n",
            "0 \t 1\n",
            "0 \t 1\n",
            "0 \t 1\n",
            "0 \t 1\n",
            "0 \t 1\n",
            "0 \t 1\n",
            "0 \t 1\n",
            "0 \t 1\n",
            "0 \t 1\n",
            "2 \t 1\n",
            "0 \t 1\n",
            "0 \t 1\n",
            "0 \t 1\n",
            "0 \t 1\n",
            "0 \t 1\n",
            "0 \t 1\n",
            "0 \t 1\n",
            "0 \t 1\n",
            "0 \t 1\n",
            "0 \t 1\n",
            "0 \t 1\n",
            "0 \t 1\n",
            "0 \t 1\n",
            "0 \t 1\n",
            "0 \t 1\n",
            "0 \t 1\n",
            "0 \t 1\n",
            "0 \t 1\n",
            "0 \t 1\n",
            "0 \t 1\n",
            "0 \t 1\n",
            "0 \t 1\n",
            "2 \t 2\n",
            "0 \t 2\n",
            "2 \t 2\n",
            "2 \t 2\n",
            "2 \t 2\n",
            "2 \t 2\n",
            "0 \t 2\n",
            "2 \t 2\n",
            "2 \t 2\n",
            "2 \t 2\n",
            "2 \t 2\n",
            "2 \t 2\n",
            "2 \t 2\n",
            "0 \t 2\n",
            "0 \t 2\n",
            "2 \t 2\n",
            "2 \t 2\n",
            "2 \t 2\n",
            "2 \t 2\n",
            "0 \t 2\n",
            "2 \t 2\n",
            "0 \t 2\n",
            "2 \t 2\n",
            "0 \t 2\n",
            "2 \t 2\n",
            "2 \t 2\n",
            "0 \t 2\n",
            "0 \t 2\n",
            "2 \t 2\n",
            "2 \t 2\n",
            "2 \t 2\n",
            "2 \t 2\n",
            "2 \t 2\n",
            "0 \t 2\n",
            "2 \t 2\n",
            "2 \t 2\n",
            "2 \t 2\n",
            "2 \t 2\n",
            "0 \t 2\n",
            "2 \t 2\n",
            "2 \t 2\n",
            "2 \t 2\n",
            "0 \t 2\n",
            "2 \t 2\n",
            "2 \t 2\n",
            "2 \t 2\n",
            "0 \t 2\n",
            "2 \t 2\n",
            "2 \t 2\n",
            "0 \t 2\n"
          ]
        }
      ]
    },
    {
      "cell_type": "code",
      "source": [
        "import numpy as np\n",
        "from scipy.spatial.distance import euclidean\n",
        "\n",
        "def kmean(a1_list, a2_list, centroid_1, centroid_2):\n",
        "    if (len(a1_list) == len(a2_list)) and (len(centroid_1) == len(centroid_2)):\n",
        "        distance = np.zeros((len(a1_list), len(centroid_1)))\n",
        "        new_c1 = np.zeros(len(centroid_1))\n",
        "        new_c2 = np.zeros(len(centroid_2))\n",
        "        cluster_no = []\n",
        "        c_cnt = np.zeros(len(centroid_1))\n",
        "\n",
        "        for i in range(len(a1_list)):\n",
        "            for j in range(len(centroid_1)):\n",
        "                # Pass two points as arrays\n",
        "                distance[i,j] = euclidean([a1_list[i], a2_list[i]], [centroid_1[j], centroid_2[j]])\n",
        "\n",
        "        for i in range(len(a1_list)):\n",
        "            min_val = min(distance[i, :])\n",
        "            cluster_no.append(list(distance[i, :]).index(min_val))\n",
        "            print(\"point:\"+str(i+1), \"\\t\",\n",
        "                  '{:.2f}'.format(distance[i,0]), \"\\t\",\n",
        "                  '{:.2f}'.format(distance[i,1]), \"\\t\",\n",
        "                  '{:.2f}'.format(distance[i,2]), \"\\t\",\n",
        "                  cluster_no[i]+1\n",
        "                 )\n",
        "\n",
        "        for i in range(len(a1_list)):\n",
        "            new_c1[cluster_no[i]] += a1_list[i]\n",
        "            new_c2[cluster_no[i]] += a2_list[i]\n",
        "            c_cnt[cluster_no[i]] += 1\n",
        "\n",
        "        for i in range(len(new_c1)):\n",
        "            new_c1[i] /= c_cnt[i]\n",
        "            new_c2[i] /= c_cnt[i]\n",
        "\n",
        "        print(new_c1, new_c2)\n",
        "        return new_c1, new_c2\n",
        "    else:\n",
        "        print(\"dimension error\")\n",
        ""
      ],
      "metadata": {
        "id": "W36F2u_-PoJM"
      },
      "execution_count": 53,
      "outputs": []
    },
    {
      "cell_type": "code",
      "source": [
        "a1 = [0,2,3,5,7,11,13,15,16,19]\n",
        "a2 = [0,5,1,4,7,1,5,2,6,4]\n",
        "c1 = [0,7,19]\n",
        "c2 = [0,7,4]"
      ],
      "metadata": {
        "id": "CLAUiz8ZPrzU"
      },
      "execution_count": 54,
      "outputs": []
    },
    {
      "cell_type": "code",
      "source": [
        "a1 = [0,2,3,5,7,11,13,15,16,19]\n",
        "a2 = [0,5,1,4,7,1,5,2,6,4]\n",
        "c1 = [0,7,19]\n",
        "c2 = [0,7,4]\n",
        "\n",
        "new_c1,new_c2 = kmean(a1,a2,c1,c2)\n",
        "_,_ = kmean(a1,a2,new_c1,new_c2)\n",
        ""
      ],
      "metadata": {
        "colab": {
          "base_uri": "https://localhost:8080/"
        },
        "id": "C2odvCQ8PvZb",
        "outputId": "e77a8186-4335-463c-b422-600ab48ecc0f"
      },
      "execution_count": 55,
      "outputs": [
        {
          "output_type": "stream",
          "name": "stdout",
          "text": [
            "point:1 \t 0.00 \t 9.90 \t 19.42 \t 1\n",
            "point:2 \t 5.39 \t 5.39 \t 17.03 \t 1\n",
            "point:3 \t 3.16 \t 7.21 \t 16.28 \t 1\n",
            "point:4 \t 6.40 \t 3.61 \t 14.00 \t 2\n",
            "point:5 \t 9.90 \t 0.00 \t 12.37 \t 2\n",
            "point:6 \t 11.05 \t 7.21 \t 8.54 \t 2\n",
            "point:7 \t 13.93 \t 6.32 \t 6.08 \t 3\n",
            "point:8 \t 15.13 \t 9.43 \t 4.47 \t 3\n",
            "point:9 \t 17.09 \t 9.06 \t 3.61 \t 3\n",
            "point:10 \t 19.42 \t 12.37 \t 0.00 \t 3\n",
            "[ 1.66666667  7.66666667 15.75      ] [2.   4.   4.25]\n",
            "point:1 \t 2.60 \t 8.65 \t 16.31 \t 1\n",
            "point:2 \t 3.02 \t 5.75 \t 13.77 \t 1\n",
            "point:3 \t 1.67 \t 5.55 \t 13.16 \t 1\n",
            "point:4 \t 3.89 \t 2.67 \t 10.75 \t 2\n",
            "point:5 \t 7.31 \t 3.07 \t 9.17 \t 2\n",
            "point:6 \t 9.39 \t 4.48 \t 5.76 \t 2\n",
            "point:7 \t 11.72 \t 5.43 \t 2.85 \t 3\n",
            "point:8 \t 13.33 \t 7.60 \t 2.37 \t 3\n",
            "point:9 \t 14.88 \t 8.57 \t 1.77 \t 3\n",
            "point:10 \t 17.45 \t 11.33 \t 3.26 \t 3\n",
            "[ 1.66666667  7.66666667 15.75      ] [2.   4.   4.25]\n"
          ]
        }
      ]
    },
    {
      "cell_type": "code",
      "source": [],
      "metadata": {
        "id": "w6jEfiOURuzd"
      },
      "execution_count": 55,
      "outputs": []
    },
    {
      "cell_type": "code",
      "source": [],
      "metadata": {
        "id": "_n3junnxR_O5"
      },
      "execution_count": 55,
      "outputs": []
    }
  ]
}